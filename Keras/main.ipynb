{
 "cells": [
  {
   "cell_type": "code",
   "execution_count": 2,
   "metadata": {},
   "outputs": [
    {
     "name": "stderr",
     "output_type": "stream",
     "text": [
      "Using TensorFlow backend.\n"
     ]
    }
   ],
   "source": [
    "#coding=utf-8\n",
    "from sklearn.metrics import roc_auc_score\n",
    "from keras.models import Sequential\n",
    "from keras.layers import Input,Dense, concatenate\n",
    "from sklearn.preprocessing import LabelEncoder\n",
    "from keras.models import Model\n",
    "from sklearn.preprocessing import OneHotEncoder\n",
    "from sklearn.preprocessing import MinMaxScaler\n",
    "from sklearn.model_selection import train_test_split\n",
    "import numpy as np\n",
    "import pandas as pd\n",
    "\n",
    "def load_data(file):\n",
    "    df = pd.read_csv(\"../Data/train.csv.gz\")\n",
    "    return df\n",
    "\n",
    "def oneHotEncoder(array_1d):\n",
    "    label = LabelEncoder().fit_transform(array_1d)\n",
    "    label = label.reshape(len(label), 1)\n",
    "    one_hot = OneHotEncoder(sparse=False).fit_transform(label)\n",
    "    return one_hot\n",
    "\n",
    "def minMaxScale(array_2d):\n",
    "    return MinMaxScaler().fit_transform(array_2d)\n",
    "\n",
    "def preprocess(data):\n",
    "    cat_list =[f for f in data.columns]\n",
    "    for c in cat_list:\n",
    "        data[c] = LabelEncoder().fit_transform(list(data[c].values))\n",
    "\n",
    "    return data\n",
    "\n",
    "de\n",
    "\n",
    "def eval_matric(y_true, y_prob):\n",
    "    print(sum(y_true)/ len(y_true))\n",
    "    print(sum([i>0.5 for i in y_prob])/ len(y_true))\n",
    "\n",
    "    y_true = np.asarray(y_true)\n",
    "    y_true = y_true[np.argsort(y_prob)]\n",
    "    ntrue = 0\n",
    "    gini = 0\n",
    "    delta = 0\n",
    "    n = len(y_true)\n",
    "    for i in range(n-1, -1, -1):\n",
    "        y_i = y_true[i]\n",
    "        ntrue += y_i\n",
    "        gini += y_i * delta\n",
    "        delta += 1 - y_i\n",
    "        gini = 1 - 2 * gini / (ntrue * (n - ntrue))\n",
    "    print(\"gini:\", gini)\n",
    "    return gini"
   ]
  },
  {
   "cell_type": "code",
   "execution_count": 12,
   "metadata": {},
   "outputs": [
    {
     "name": "stdout",
     "output_type": "stream",
     "text": [
      "---loading and preprocessing the data---\n"
     ]
    }
   ],
   "source": [
    "print(\"---loading and preprocessing the data---\")\n",
    "data = load_data('./train')\n",
    "data = data.set_index(\"id\")\n",
    "target = data['target']\n",
    "data.drop(['target'], axis=1, inplace=True)\n",
    "data = preprocess(data)\n",
    "train, test, y_train, y_test = train_test_split(data, target, test_size=0.33, random_state=42)"
   ]
  },
  {
   "cell_type": "code",
   "execution_count": 13,
   "metadata": {},
   "outputs": [],
   "source": [
    "def models(train, y_train, test, y_test):\n",
    "    # wide\n",
    "    wide = Sequential()\n",
    "    wide = Input(shape=(train.shape[1],))\n",
    "\n",
    "    # deep\n",
    "    deep_data = Input(shape=(train.shape[1],))\n",
    "    deep = Dense(1024, activation='relu')(deep_data)\n",
    "    deep = Dense(128, activation='relu')(deep)\n",
    "    deep = Dense(64, activation='relu')(deep)\n",
    "\n",
    "    # wide & deep \n",
    "    #wide_deep = concatenate([wide, deep])\n",
    "    wide_deep = deep\n",
    "   # wide_deep = deep\n",
    "    wide_deep = Dense(1, activation='sigmoid')(wide_deep)\n",
    "    model = Model(inputs=[wide, deep_data], outputs=wide_deep)\n",
    "\n",
    "    print(\"---starting the training---\")\n",
    "    model.compile(\n",
    "        optimizer='rmsprop',\n",
    "        loss='binary_crossentropy',\n",
    "        metrics=['accuracy']\n",
    "    )\n",
    "\n",
    "    model.fit([train, train], y_train, nb_epoch=1, batch_size=32)\n",
    "\n",
    "    loss, accuracy = model.evaluate([test, test], y_test)\n",
    "    print('\\n', 'test accuracy:', accuracy)\n",
    "    y_pred = model.predict([test,test])\n",
    "    print(sum(y_test))\n",
    "    print(len(y_test))\n",
    "    print(\"auc is \", roc_auc_score(y_test, y_pred))\n",
    "    eval_matric(y_test, y_pred)"
   ]
  },
  {
   "cell_type": "code",
   "execution_count": 15,
   "metadata": {},
   "outputs": [
    {
     "name": "stdout",
     "output_type": "stream",
     "text": [
      "---starting the training---\n"
     ]
    },
    {
     "name": "stderr",
     "output_type": "stream",
     "text": [
      "/usr/local/anaconda3/lib/python3.6/site-packages/ipykernel_launcher.py:26: UserWarning: The `nb_epoch` argument in `fit` has been renamed `epochs`.\n"
     ]
    },
    {
     "name": "stdout",
     "output_type": "stream",
     "text": [
      "Epoch 1/1\n",
      "398792/398792 [==============================] - 52s 129us/step - loss: 0.5857 - acc: 0.9637\n",
      "196420/196420 [==============================] - 9s 47us/step\n",
      "\n",
      " test accuracy: 0.9633336727420833\n",
      "7202\n",
      "196420\n",
      "auc is  0.49995316448946253\n",
      "0.03666632725791671\n",
      "[0.]\n"
     ]
    },
    {
     "name": "stderr",
     "output_type": "stream",
     "text": [
      "/usr/local/anaconda3/lib/python3.6/site-packages/ipykernel_launcher.py:48: RuntimeWarning: invalid value encountered in true_divide\n"
     ]
    },
    {
     "name": "stdout",
     "output_type": "stream",
     "text": [
      "gini: [nan]\n"
     ]
    }
   ],
   "source": [
    "models(train,  y_train, test, y_test)"
   ]
  },
  {
   "cell_type": "code",
   "execution_count": null,
   "metadata": {},
   "outputs": [],
   "source": []
  }
 ],
 "metadata": {
  "kernelspec": {
   "display_name": "Python 3",
   "language": "python",
   "name": "python3"
  },
  "language_info": {
   "codemirror_mode": {
    "name": "ipython",
    "version": 3
   },
   "file_extension": ".py",
   "mimetype": "text/x-python",
   "name": "python",
   "nbconvert_exporter": "python",
   "pygments_lexer": "ipython3",
   "version": "3.6.8"
  }
 },
 "nbformat": 4,
 "nbformat_minor": 2
}
