{
 "cells": [
  {
   "cell_type": "code",
   "execution_count": 1,
   "metadata": {},
   "outputs": [],
   "source": [
    "#coding=utf-8\n",
    "from sklearn.metrics import roc_auc_score, recall_score\n",
    "from sklearn.preprocessing import OneHotEncoder\n",
    "from sklearn.preprocessing import MinMaxScaler\n",
    "from sklearn.model_selection import train_test_split\n",
    "from sklearn.preprocessing import LabelEncoder, MinMaxScaler, OneHotEncoder\n",
    "import numpy as np\n",
    "import pandas as pd\n",
    "import tensorflow as tf\n",
    "from sklearn.metrics import roc_auc_score\n",
    "from sklearn.model_selection import train_test_split\n",
    "from sklearn.preprocessing import LabelEncoder, MinMaxScaler, OneHotEncoder\n",
    "\n",
    "def load_data():\n",
    "    df = pd.read_csv(\"Data/train.csv.gz\")\n",
    "    return df\n",
    "\n",
    "def eval_matric(y_true, y_prob):\n",
    "    print(\"true p ratio\", sum(y_true)/ len(y_true))\n",
    "    y_pred = [1 if i> 0.5 else 0 for i in y_prob]\n",
    "    print(\"recall ratio\", sum(y_pred)/float(sum(y_true)))\n",
    "\n",
    "    y_true = np.asarray(y_true)\n",
    "    y_true = y_true[np.argsort(y_prob)]\n",
    "    ntrue = 0\n",
    "    gini = 0\n",
    "    delta = 0\n",
    "    n = len(y_true)\n",
    "    for i in range(n-1, -1, -1):\n",
    "        y_i = y_true[i]\n",
    "        ntrue += y_i\n",
    "        gini += y_i * delta\n",
    "        delta += 1 - y_i\n",
    "        gini = 1 - 2 * gini / (ntrue * (n - ntrue))\n",
    "    print(\"gini:\", gini)\n",
    "    return gini"
   ]
  },
  {
   "cell_type": "code",
   "execution_count": 2,
   "metadata": {},
   "outputs": [
    {
     "name": "stdout",
     "output_type": "stream",
     "text": [
      "---loading and preprocessing the data---\n"
     ]
    }
   ],
   "source": [
    "print(\"---loading and preprocessing the data---\")\n",
    "data = load_data()\n",
    "data = data.set_index(\"id\")\n",
    "target = data['target']\n",
    "data.drop(['target'], axis=1, inplace=True)\n",
    "#data = preprocess(data)"
   ]
  },
  {
   "cell_type": "code",
   "execution_count": 3,
   "metadata": {},
   "outputs": [
    {
     "name": "stderr",
     "output_type": "stream",
     "text": [
      "Using TensorFlow backend.\n"
     ]
    },
    {
     "name": "stdout",
     "output_type": "stream",
     "text": [
      "sparse : unique sum  376\n",
      "27 30\n",
      "(595212, 57)\n",
      "(595212, 57)\n"
     ]
    }
   ],
   "source": [
    "from util import *\n",
    "\n",
    "data, sparse_features, dense_features = recognize_feature(data)\n",
    "print(len(dense_features),len(sparse_features))\n",
    "\n",
    "sparse_label_dict = dict()\n",
    "for f in sparse_features:\n",
    "    sparse_label_dict[f] = data[f].max()\n",
    "\n",
    "print(data.shape)\n",
    "#data = one_hot_for_sparse(data, sparse_features)\n",
    "#data = scalar_for_dense(data, dense_features)\n",
    "print(data.shape)"
   ]
  },
  {
   "cell_type": "code",
   "execution_count": 4,
   "metadata": {},
   "outputs": [
    {
     "name": "stdout",
     "output_type": "stream",
     "text": [
      "{'ps_ind_01': 7, 'ps_ind_02_cat': 4, 'ps_ind_03': 11, 'ps_ind_04_cat': 2, 'ps_ind_05_cat': 7, 'ps_ind_14': 4, 'ps_ind_15': 13, 'ps_car_01_cat': 12, 'ps_car_02_cat': 2, 'ps_car_03_cat': 2, 'ps_car_04_cat': 9, 'ps_car_05_cat': 2, 'ps_car_06_cat': 17, 'ps_car_07_cat': 2, 'ps_car_08_cat': 1, 'ps_car_09_cat': 5, 'ps_car_10_cat': 2, 'ps_car_11_cat': 103, 'ps_car_11': 4, 'ps_calc_04': 5, 'ps_calc_05': 6, 'ps_calc_06': 10, 'ps_calc_07': 9, 'ps_calc_08': 10, 'ps_calc_09': 7, 'ps_calc_10': 25, 'ps_calc_11': 19, 'ps_calc_12': 10, 'ps_calc_13': 13, 'ps_calc_14': 23}\n"
     ]
    }
   ],
   "source": [
    "print(sparse_label_dict)"
   ]
  },
  {
   "cell_type": "code",
   "execution_count": 5,
   "metadata": {},
   "outputs": [],
   "source": [
    "train, test, y_train, y_test = train_test_split(data, target, test_size=0.33, random_state=42)"
   ]
  },
  {
   "cell_type": "code",
   "execution_count": 6,
   "metadata": {},
   "outputs": [],
   "source": [
    "from Tensorflow.TFModel import *"
   ]
  },
  {
   "cell_type": "code",
   "execution_count": 7,
   "metadata": {},
   "outputs": [
    {
     "name": "stdout",
     "output_type": "stream",
     "text": [
      "398792\n"
     ]
    }
   ],
   "source": [
    "print(len(y_train))"
   ]
  },
  {
   "cell_type": "code",
   "execution_count": 8,
   "metadata": {},
   "outputs": [],
   "source": [
    "train = train.reset_index().drop(\"id\", axis =1)\n",
    "test = test.reset_index().drop(\"id\", axis =1)\n",
    "y_train = y_train.reset_index().drop(\"id\", axis =1)\n",
    "y_test = y_test.reset_index().drop(\"id\", axis =1)"
   ]
  },
  {
   "cell_type": "code",
   "execution_count": 9,
   "metadata": {},
   "outputs": [
    {
     "name": "stdout",
     "output_type": "stream",
     "text": [
      "[<tf.Variable 'feature_embeddingps_ind_01:0' shape=(7, 3) dtype=float32_ref>, <tf.Variable 'feature_embeddingps_ind_02_cat:0' shape=(4, 3) dtype=float32_ref>, <tf.Variable 'feature_embeddingps_ind_03:0' shape=(11, 3) dtype=float32_ref>, <tf.Variable 'feature_embeddingps_ind_04_cat:0' shape=(2, 3) dtype=float32_ref>, <tf.Variable 'feature_embeddingps_ind_05_cat:0' shape=(7, 3) dtype=float32_ref>, <tf.Variable 'feature_embeddingps_ind_14:0' shape=(4, 3) dtype=float32_ref>, <tf.Variable 'feature_embeddingps_ind_15:0' shape=(13, 3) dtype=float32_ref>, <tf.Variable 'feature_embeddingps_car_01_cat:0' shape=(12, 3) dtype=float32_ref>, <tf.Variable 'feature_embeddingps_car_02_cat:0' shape=(2, 3) dtype=float32_ref>, <tf.Variable 'feature_embeddingps_car_03_cat:0' shape=(2, 3) dtype=float32_ref>, <tf.Variable 'feature_embeddingps_car_04_cat:0' shape=(9, 3) dtype=float32_ref>, <tf.Variable 'feature_embeddingps_car_05_cat:0' shape=(2, 3) dtype=float32_ref>, <tf.Variable 'feature_embeddingps_car_06_cat:0' shape=(17, 3) dtype=float32_ref>, <tf.Variable 'feature_embeddingps_car_07_cat:0' shape=(2, 3) dtype=float32_ref>, <tf.Variable 'feature_embeddingps_car_08_cat:0' shape=(1, 3) dtype=float32_ref>, <tf.Variable 'feature_embeddingps_car_09_cat:0' shape=(5, 3) dtype=float32_ref>, <tf.Variable 'feature_embeddingps_car_10_cat:0' shape=(2, 3) dtype=float32_ref>, <tf.Variable 'feature_embeddingps_car_11_cat:0' shape=(103, 3) dtype=float32_ref>, <tf.Variable 'feature_embeddingps_car_11:0' shape=(4, 3) dtype=float32_ref>, <tf.Variable 'feature_embeddingps_calc_04:0' shape=(5, 3) dtype=float32_ref>, <tf.Variable 'feature_embeddingps_calc_05:0' shape=(6, 3) dtype=float32_ref>, <tf.Variable 'feature_embeddingps_calc_06:0' shape=(10, 3) dtype=float32_ref>, <tf.Variable 'feature_embeddingps_calc_07:0' shape=(9, 3) dtype=float32_ref>, <tf.Variable 'feature_embeddingps_calc_08:0' shape=(10, 3) dtype=float32_ref>, <tf.Variable 'feature_embeddingps_calc_09:0' shape=(7, 3) dtype=float32_ref>, <tf.Variable 'feature_embeddingps_calc_10:0' shape=(25, 3) dtype=float32_ref>, <tf.Variable 'feature_embeddingps_calc_11:0' shape=(19, 3) dtype=float32_ref>, <tf.Variable 'feature_embeddingps_calc_12:0' shape=(10, 3) dtype=float32_ref>, <tf.Variable 'feature_embeddingps_calc_13:0' shape=(13, 3) dtype=float32_ref>, <tf.Variable 'feature_embeddingps_calc_14:0' shape=(23, 3) dtype=float32_ref>, <tf.Variable 'dense/kernel:0' shape=(90, 1) dtype=float32_ref>, <tf.Variable 'dense/bias:0' shape=(1,) dtype=float32_ref>, <tf.Variable 'second_order:0' shape=(30, 3) dtype=float32_ref>, <tf.Variable 'dense_1/kernel:0' shape=(117, 2048) dtype=float32_ref>, <tf.Variable 'dense_1/bias:0' shape=(2048,) dtype=float32_ref>, <tf.Variable 'dense_2/kernel:0' shape=(2048, 100) dtype=float32_ref>, <tf.Variable 'dense_2/bias:0' shape=(100,) dtype=float32_ref>, <tf.Variable 'dense_3/kernel:0' shape=(100, 50) dtype=float32_ref>, <tf.Variable 'dense_3/bias:0' shape=(50,) dtype=float32_ref>, <tf.Variable 'dense_4/kernel:0' shape=(50, 1) dtype=float32_ref>, <tf.Variable 'dense_4/bias:0' shape=(1,) dtype=float32_ref>, <tf.Variable 'dense_5/kernel:0' shape=(3, 1) dtype=float32_ref>, <tf.Variable 'dense_5/bias:0' shape=(1,) dtype=float32_ref>]\n",
      "epoch 0:\n",
      "the times of training is 0, and the loss is 0.691619\n",
      "the times of training is 100, and the loss is 0.6520531\n",
      "the times of training is 200, and the loss is 0.6118146\n",
      "the times of training is 300, and the loss is 0.57507205\n",
      "epoch 1:\n",
      "the times of training is 0, and the loss is 0.54309064\n",
      "the times of training is 100, and the loss is 0.5120781\n",
      "the times of training is 200, and the loss is 0.48314896\n",
      "the times of training is 300, and the loss is 0.4574047\n",
      "epoch 2:\n",
      "the times of training is 0, and the loss is 0.43537062\n",
      "the times of training is 100, and the loss is 0.41304627\n",
      "the times of training is 200, and the loss is 0.3912386\n",
      "the times of training is 300, and the loss is 0.37283495\n",
      "epoch 3:\n",
      "the times of training is 0, and the loss is 0.35779166\n",
      "the times of training is 100, and the loss is 0.34158137\n",
      "the times of training is 200, and the loss is 0.3247749\n",
      "the times of training is 300, and the loss is 0.311686\n",
      "epoch 4:\n",
      "the times of training is 0, and the loss is 0.30186337\n",
      "the times of training is 100, and the loss is 0.29014388\n",
      "the times of training is 200, and the loss is 0.276943\n",
      "the times of training is 300, and the loss is 0.267743\n",
      "epoch 5:\n",
      "the times of training is 0, and the loss is 0.26184195\n",
      "the times of training is 100, and the loss is 0.2533956\n",
      "the times of training is 200, and the loss is 0.24276645\n",
      "the times of training is 300, and the loss is 0.23639642\n",
      "epoch 6:\n",
      "the times of training is 0, and the loss is 0.23343435\n",
      "the times of training is 100, and the loss is 0.22734337\n",
      "the times of training is 200, and the loss is 0.21845113\n",
      "the times of training is 300, and the loss is 0.21404538\n",
      "epoch 7:\n",
      "the times of training is 0, and the loss is 0.21319966\n",
      "the times of training is 100, and the loss is 0.20873427\n",
      "the times of training is 200, and the loss is 0.20099968\n",
      "the times of training is 300, and the loss is 0.19799612\n",
      "epoch 8:\n",
      "the times of training is 0, and the loss is 0.19875225\n",
      "the times of training is 100, and the loss is 0.19548026\n",
      "the times of training is 200, and the loss is 0.18855187\n",
      "the times of training is 300, and the loss is 0.18656029\n",
      "epoch 9:\n",
      "the times of training is 0, and the loss is 0.18851998\n",
      "the times of training is 100, and the loss is 0.18607363\n",
      "the times of training is 200, and the loss is 0.17964236\n",
      "the times of training is 300, and the loss is 0.17832495\n",
      "epoch 10:\n",
      "the times of training is 0, and the loss is 0.18115342\n",
      "the times of training is 100, and the loss is 0.17926143\n",
      "the times of training is 200, and the loss is 0.1731194\n",
      "the times of training is 300, and the loss is 0.17227049\n",
      "epoch 11:\n",
      "the times of training is 0, and the loss is 0.17576471\n",
      "the times of training is 100, and the loss is 0.17426987\n",
      "the times of training is 200, and the loss is 0.16830148\n",
      "the times of training is 300, and the loss is 0.1677927\n",
      "epoch 12:\n",
      "the times of training is 0, and the loss is 0.17180806\n",
      "the times of training is 100, and the loss is 0.17059872\n",
      "the times of training is 200, and the loss is 0.16472767\n",
      "the times of training is 300, and the loss is 0.16446275\n",
      "epoch 13:\n",
      "the times of training is 0, and the loss is 0.16888614\n",
      "the times of training is 100, and the loss is 0.16788146\n",
      "the times of training is 200, and the loss is 0.16205534\n",
      "the times of training is 300, and the loss is 0.1619711\n",
      "epoch 14:\n",
      "the times of training is 0, and the loss is 0.16672286\n",
      "the times of training is 100, and the loss is 0.16586988\n",
      "the times of training is 200, and the loss is 0.16005753\n",
      "the times of training is 300, and the loss is 0.160107\n",
      "epoch 15:\n",
      "the times of training is 0, and the loss is 0.16512544\n",
      "the times of training is 100, and the loss is 0.16438635\n",
      "the times of training is 200, and the loss is 0.15856881\n",
      "the times of training is 300, and the loss is 0.15871622\n",
      "epoch 16:\n",
      "the times of training is 0, and the loss is 0.1639505\n",
      "the times of training is 100, and the loss is 0.16329321\n",
      "the times of training is 200, and the loss is 0.15745637\n",
      "the times of training is 300, and the loss is 0.15767285\n",
      "epoch 17:\n",
      "the times of training is 0, and the loss is 0.16308212\n",
      "the times of training is 100, and the loss is 0.16248286\n",
      "the times of training is 200, and the loss is 0.15661849\n",
      "the times of training is 300, and the loss is 0.15688357\n",
      "epoch 18:\n",
      "the times of training is 0, and the loss is 0.16243573\n",
      "the times of training is 100, and the loss is 0.16187721\n",
      "the times of training is 200, and the loss is 0.15598029\n",
      "the times of training is 300, and the loss is 0.15627931\n",
      "epoch 19:\n",
      "the times of training is 0, and the loss is 0.16195019\n",
      "the times of training is 100, and the loss is 0.16142021\n",
      "the times of training is 200, and the loss is 0.15548883\n",
      "the times of training is 300, and the loss is 0.15581205\n",
      "epoch 20:\n",
      "the times of training is 0, and the loss is 0.16158307\n",
      "the times of training is 100, and the loss is 0.16107309\n",
      "the times of training is 200, and the loss is 0.15510741\n",
      "the times of training is 300, and the loss is 0.15544812\n",
      "epoch 21:\n",
      "the times of training is 0, and the loss is 0.16130435\n",
      "the times of training is 100, and the loss is 0.16080858\n",
      "the times of training is 200, and the loss is 0.15480933\n",
      "the times of training is 300, and the loss is 0.15516251\n",
      "epoch 22:\n",
      "the times of training is 0, and the loss is 0.16109207\n",
      "the times of training is 100, and the loss is 0.1606063\n",
      "the times of training is 200, and the loss is 0.15457505\n",
      "the times of training is 300, and the loss is 0.15493721\n",
      "epoch 23:\n",
      "the times of training is 0, and the loss is 0.16093041\n",
      "the times of training is 100, and the loss is 0.16045143\n",
      "the times of training is 200, and the loss is 0.15438996\n",
      "the times of training is 300, and the loss is 0.15475851\n",
      "epoch 24:\n",
      "the times of training is 0, and the loss is 0.1608072\n",
      "the times of training is 100, and the loss is 0.16033266\n",
      "the times of training is 200, and the loss is 0.15424304\n",
      "the times of training is 300, and the loss is 0.15461601\n",
      "epoch 25:\n",
      "the times of training is 0, and the loss is 0.16071354\n",
      "the times of training is 100, and the loss is 0.16024174\n",
      "the times of training is 200, and the loss is 0.15412599\n",
      "the times of training is 300, and the loss is 0.15450196\n",
      "epoch 26:\n",
      "the times of training is 0, and the loss is 0.16064249\n",
      "the times of training is 100, and the loss is 0.16017227\n",
      "the times of training is 200, and the loss is 0.1540324\n",
      "the times of training is 300, and the loss is 0.1544103\n",
      "epoch 27:\n",
      "the times of training is 0, and the loss is 0.16058892\n",
      "the times of training is 100, and the loss is 0.16011935\n",
      "the times of training is 200, and the loss is 0.15395725\n",
      "the times of training is 300, and the loss is 0.15433636\n",
      "epoch 28:\n",
      "the times of training is 0, and the loss is 0.16054879\n",
      "the times of training is 100, and the loss is 0.16007915\n",
      "the times of training is 200, and the loss is 0.15389657\n",
      "the times of training is 300, and the loss is 0.15427633\n",
      "epoch 29:\n",
      "the times of training is 0, and the loss is 0.16051893\n",
      "the times of training is 100, and the loss is 0.16004868\n",
      "the times of training is 200, and the loss is 0.1538473\n",
      "the times of training is 300, and the loss is 0.15422733\n"
     ]
    }
   ],
   "source": [
    "model =TFModel(sparse_features, dense_features, sparse_label_dict, [2048, 100, 50] , 3)\n",
    "model.fit(train, test, y_train, y_test, 30, 1000)"
   ]
  },
  {
   "cell_type": "code",
   "execution_count": 10,
   "metadata": {},
   "outputs": [],
   "source": [
    "#from Keras.models.DeepFM import *"
   ]
  },
  {
   "cell_type": "code",
   "execution_count": 11,
   "metadata": {},
   "outputs": [],
   "source": [
    "#model = DeepFM(sparse_features, dense_features, sparse_label_dict, [2048, 100, 50] , 3)\n",
    "#model.fit(train, test, y_train, y_test, 30, 1000)"
   ]
  },
  {
   "cell_type": "code",
   "execution_count": null,
   "metadata": {},
   "outputs": [],
   "source": []
  }
 ],
 "metadata": {
  "kernelspec": {
   "display_name": "Python 3",
   "language": "python",
   "name": "python3"
  },
  "language_info": {
   "codemirror_mode": {
    "name": "ipython",
    "version": 3
   },
   "file_extension": ".py",
   "mimetype": "text/x-python",
   "name": "python",
   "nbconvert_exporter": "python",
   "pygments_lexer": "ipython3",
   "version": "3.6.8"
  }
 },
 "nbformat": 4,
 "nbformat_minor": 2
}
