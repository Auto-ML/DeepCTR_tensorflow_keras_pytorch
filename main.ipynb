{
 "cells": [
  {
   "cell_type": "code",
   "execution_count": 1,
   "metadata": {},
   "outputs": [],
   "source": [
    "#coding=utf-8\n",
    "from sklearn.metrics import roc_auc_score, recall_score\n",
    "from sklearn.preprocessing import OneHotEncoder\n",
    "from sklearn.preprocessing import MinMaxScaler\n",
    "from sklearn.model_selection import train_test_split\n",
    "from sklearn.preprocessing import LabelEncoder, MinMaxScaler, OneHotEncoder\n",
    "import numpy as np\n",
    "import pandas as pd\n",
    "import tensorflow as tf\n",
    "from sklearn.metrics import roc_auc_score\n",
    "from sklearn.model_selection import train_test_split\n",
    "from sklearn.preprocessing import LabelEncoder, MinMaxScaler, OneHotEncoder\n",
    "\n",
    "def load_data():\n",
    "    df = pd.read_csv(\"Data/train.csv.gz\")\n",
    "    return df\n",
    "\n",
    "def eval_matric(y_true, y_prob):\n",
    "    print(\"true p ratio\", sum(y_true)/ len(y_true))\n",
    "    y_pred = [1 if i> 0.5 else 0 for i in y_prob]\n",
    "    print(\"recall ratio\", sum(y_pred)/float(sum(y_true)))\n",
    "\n",
    "    y_true = np.asarray(y_true)\n",
    "    y_true = y_true[np.argsort(y_prob)]\n",
    "    ntrue = 0\n",
    "    gini = 0\n",
    "    delta = 0\n",
    "    n = len(y_true)\n",
    "    for i in range(n-1, -1, -1):\n",
    "        y_i = y_true[i]\n",
    "        ntrue += y_i\n",
    "        gini += y_i * delta\n",
    "        delta += 1 - y_i\n",
    "        gini = 1 - 2 * gini / (ntrue * (n - ntrue))\n",
    "    print(\"gini:\", gini)\n",
    "    return gini"
   ]
  },
  {
   "cell_type": "code",
   "execution_count": 2,
   "metadata": {},
   "outputs": [
    {
     "name": "stdout",
     "output_type": "stream",
     "text": [
      "---loading and preprocessing the data---\n"
     ]
    }
   ],
   "source": [
    "print(\"---loading and preprocessing the data---\")\n",
    "data = load_data()\n",
    "data = data.set_index(\"id\")\n",
    "target = data['target']\n",
    "data.drop(['target'], axis=1, inplace=True)\n",
    "#data = preprocess(data)"
   ]
  },
  {
   "cell_type": "code",
   "execution_count": 3,
   "metadata": {},
   "outputs": [
    {
     "name": "stderr",
     "output_type": "stream",
     "text": [
      "Using TensorFlow backend.\n"
     ]
    },
    {
     "name": "stdout",
     "output_type": "stream",
     "text": [
      "sparse : unique sum  376\n",
      "27 30\n",
      "(595212, 57)\n",
      "(595212, 57)\n"
     ]
    }
   ],
   "source": [
    "from util import *\n",
    "\n",
    "data, sparse_features, dense_features = recognize_feature(data)\n",
    "print(len(dense_features),len(sparse_features))\n",
    "\n",
    "sparse_label_dict = dict()\n",
    "for f in sparse_features:\n",
    "    sparse_label_dict[f] = data[f].max()\n",
    "\n",
    "print(data.shape)\n",
    "#data = one_hot_for_sparse(data, sparse_features)\n",
    "#data = scalar_for_dense(data, dense_features)\n",
    "print(data.shape)"
   ]
  },
  {
   "cell_type": "code",
   "execution_count": 4,
   "metadata": {},
   "outputs": [
    {
     "name": "stdout",
     "output_type": "stream",
     "text": [
      "{'ps_ind_01': 7, 'ps_ind_02_cat': 4, 'ps_ind_03': 11, 'ps_ind_04_cat': 2, 'ps_ind_05_cat': 7, 'ps_ind_14': 4, 'ps_ind_15': 13, 'ps_car_01_cat': 12, 'ps_car_02_cat': 2, 'ps_car_03_cat': 2, 'ps_car_04_cat': 9, 'ps_car_05_cat': 2, 'ps_car_06_cat': 17, 'ps_car_07_cat': 2, 'ps_car_08_cat': 1, 'ps_car_09_cat': 5, 'ps_car_10_cat': 2, 'ps_car_11_cat': 103, 'ps_car_11': 4, 'ps_calc_04': 5, 'ps_calc_05': 6, 'ps_calc_06': 10, 'ps_calc_07': 9, 'ps_calc_08': 10, 'ps_calc_09': 7, 'ps_calc_10': 25, 'ps_calc_11': 19, 'ps_calc_12': 10, 'ps_calc_13': 13, 'ps_calc_14': 23}\n"
     ]
    }
   ],
   "source": [
    "print(sparse_label_dict)"
   ]
  },
  {
   "cell_type": "code",
   "execution_count": 5,
   "metadata": {},
   "outputs": [],
   "source": [
    "train, test, y_train, y_test = train_test_split(data, target, test_size=0.33, random_state=42)"
   ]
  },
  {
   "cell_type": "code",
   "execution_count": 8,
   "metadata": {},
   "outputs": [],
   "source": [
    "train = train.reset_index().drop(\"id\", axis =1)\n",
    "test = test.reset_index().drop(\"id\", axis =1)\n",
    "y_train = y_train.reset_index().drop(\"id\", axis =1)\n",
    "y_test = y_test.reset_index().drop(\"id\", axis =1)"
   ]
  },
  {
   "cell_type": "code",
   "execution_count": 9,
   "metadata": {},
   "outputs": [
    {
     "name": "stdout",
     "output_type": "stream",
     "text": [
      "[<tf.Variable 'feature_embeddingps_ind_01:0' shape=(7, 3) dtype=float32_ref>, <tf.Variable 'feature_embeddingps_ind_02_cat:0' shape=(4, 3) dtype=float32_ref>, <tf.Variable 'feature_embeddingps_ind_03:0' shape=(11, 3) dtype=float32_ref>, <tf.Variable 'feature_embeddingps_ind_04_cat:0' shape=(2, 3) dtype=float32_ref>, <tf.Variable 'feature_embeddingps_ind_05_cat:0' shape=(7, 3) dtype=float32_ref>, <tf.Variable 'feature_embeddingps_ind_14:0' shape=(4, 3) dtype=float32_ref>, <tf.Variable 'feature_embeddingps_ind_15:0' shape=(13, 3) dtype=float32_ref>, <tf.Variable 'feature_embeddingps_car_01_cat:0' shape=(12, 3) dtype=float32_ref>, <tf.Variable 'feature_embeddingps_car_02_cat:0' shape=(2, 3) dtype=float32_ref>, <tf.Variable 'feature_embeddingps_car_03_cat:0' shape=(2, 3) dtype=float32_ref>, <tf.Variable 'feature_embeddingps_car_04_cat:0' shape=(9, 3) dtype=float32_ref>, <tf.Variable 'feature_embeddingps_car_05_cat:0' shape=(2, 3) dtype=float32_ref>, <tf.Variable 'feature_embeddingps_car_06_cat:0' shape=(17, 3) dtype=float32_ref>, <tf.Variable 'feature_embeddingps_car_07_cat:0' shape=(2, 3) dtype=float32_ref>, <tf.Variable 'feature_embeddingps_car_08_cat:0' shape=(1, 3) dtype=float32_ref>, <tf.Variable 'feature_embeddingps_car_09_cat:0' shape=(5, 3) dtype=float32_ref>, <tf.Variable 'feature_embeddingps_car_10_cat:0' shape=(2, 3) dtype=float32_ref>, <tf.Variable 'feature_embeddingps_car_11_cat:0' shape=(103, 3) dtype=float32_ref>, <tf.Variable 'feature_embeddingps_car_11:0' shape=(4, 3) dtype=float32_ref>, <tf.Variable 'feature_embeddingps_calc_04:0' shape=(5, 3) dtype=float32_ref>, <tf.Variable 'feature_embeddingps_calc_05:0' shape=(6, 3) dtype=float32_ref>, <tf.Variable 'feature_embeddingps_calc_06:0' shape=(10, 3) dtype=float32_ref>, <tf.Variable 'feature_embeddingps_calc_07:0' shape=(9, 3) dtype=float32_ref>, <tf.Variable 'feature_embeddingps_calc_08:0' shape=(10, 3) dtype=float32_ref>, <tf.Variable 'feature_embeddingps_calc_09:0' shape=(7, 3) dtype=float32_ref>, <tf.Variable 'feature_embeddingps_calc_10:0' shape=(25, 3) dtype=float32_ref>, <tf.Variable 'feature_embeddingps_calc_11:0' shape=(19, 3) dtype=float32_ref>, <tf.Variable 'feature_embeddingps_calc_12:0' shape=(10, 3) dtype=float32_ref>, <tf.Variable 'feature_embeddingps_calc_13:0' shape=(13, 3) dtype=float32_ref>, <tf.Variable 'feature_embeddingps_calc_14:0' shape=(23, 3) dtype=float32_ref>, <tf.Variable 'dense/kernel:0' shape=(90, 1) dtype=float32_ref>, <tf.Variable 'dense/bias:0' shape=(1,) dtype=float32_ref>, <tf.Variable 'second_order:0' shape=(30, 3) dtype=float32_ref>, <tf.Variable 'dense_1/kernel:0' shape=(117, 2048) dtype=float32_ref>, <tf.Variable 'dense_1/bias:0' shape=(2048,) dtype=float32_ref>, <tf.Variable 'dense_2/kernel:0' shape=(2048, 100) dtype=float32_ref>, <tf.Variable 'dense_2/bias:0' shape=(100,) dtype=float32_ref>, <tf.Variable 'dense_3/kernel:0' shape=(100, 50) dtype=float32_ref>, <tf.Variable 'dense_3/bias:0' shape=(50,) dtype=float32_ref>, <tf.Variable 'dense_4/kernel:0' shape=(50, 1) dtype=float32_ref>, <tf.Variable 'dense_4/bias:0' shape=(1,) dtype=float32_ref>, <tf.Variable 'dense_5/kernel:0' shape=(3, 1) dtype=float32_ref>, <tf.Variable 'dense_5/bias:0' shape=(1,) dtype=float32_ref>]\n",
      "epoch 0:\n",
      "the times of training is 0, and the loss is 0.711141\n",
      "the times of training is 100, and the loss is 0.6537541\n",
      "the times of training is 200, and the loss is 0.6167635\n",
      "the times of training is 300, and the loss is 0.5842125\n",
      "epoch 1:\n",
      "the times of training is 0, and the loss is 0.5551137\n",
      "the times of training is 100, and the loss is 0.5272273\n",
      "the times of training is 200, and the loss is 0.50004125\n",
      "the times of training is 300, and the loss is 0.47622678\n",
      "epoch 2:\n",
      "the times of training is 0, and the loss is 0.45511672\n",
      "the times of training is 100, and the loss is 0.43408427\n",
      "the times of training is 200, and the loss is 0.41261083\n",
      "the times of training is 300, and the loss is 0.3948114\n",
      "epoch 3:\n",
      "the times of training is 0, and the loss is 0.3795602\n",
      "the times of training is 100, and the loss is 0.36359787\n",
      "the times of training is 200, and the loss is 0.34632626\n",
      "the times of training is 300, and the loss is 0.3331042\n",
      "epoch 4:\n",
      "the times of training is 0, and the loss is 0.32247046\n",
      "the times of training is 100, and the loss is 0.310437\n",
      "the times of training is 200, and the loss is 0.2964082\n",
      "the times of training is 300, and the loss is 0.28675702\n",
      "epoch 5:\n",
      "the times of training is 0, and the loss is 0.27981374\n",
      "the times of training is 100, and the loss is 0.2708362\n",
      "the times of training is 200, and the loss is 0.25925124\n",
      "the times of training is 300, and the loss is 0.25234422\n",
      "epoch 6:\n",
      "the times of training is 0, and the loss is 0.24833429\n",
      "the times of training is 100, and the loss is 0.24167866\n",
      "the times of training is 200, and the loss is 0.23188013\n",
      "the times of training is 300, and the loss is 0.22699738\n",
      "epoch 7:\n",
      "the times of training is 0, and the loss is 0.22522342\n",
      "the times of training is 100, and the loss is 0.22026598\n",
      "the times of training is 200, and the loss is 0.21172662\n",
      "the times of training is 300, and the loss is 0.20833513\n",
      "epoch 8:\n",
      "the times of training is 0, and the loss is 0.20829554\n",
      "the times of training is 100, and the loss is 0.20460969\n",
      "the times of training is 200, and the loss is 0.19696797\n",
      "the times of training is 300, and the loss is 0.194683\n",
      "epoch 9:\n",
      "the times of training is 0, and the loss is 0.19599338\n",
      "the times of training is 100, and the loss is 0.19322585\n",
      "the times of training is 200, and the loss is 0.18617877\n",
      "the times of training is 300, and the loss is 0.18466195\n",
      "epoch 10:\n",
      "the times of training is 0, and the loss is 0.18698213\n",
      "the times of training is 100, and the loss is 0.18485303\n",
      "the times of training is 200, and the loss is 0.17817253\n",
      "the times of training is 300, and the loss is 0.17719315\n",
      "epoch 11:\n",
      "the times of training is 0, and the loss is 0.18029457\n",
      "the times of training is 100, and the loss is 0.17862749\n",
      "the times of training is 200, and the loss is 0.17217496\n",
      "the times of training is 300, and the loss is 0.17158638\n",
      "epoch 12:\n",
      "the times of training is 0, and the loss is 0.17531215\n",
      "the times of training is 100, and the loss is 0.1739875\n",
      "the times of training is 200, and the loss is 0.16768222\n",
      "the times of training is 300, and the loss is 0.16739276\n",
      "epoch 13:\n",
      "the times of training is 0, and the loss is 0.17162488\n",
      "the times of training is 100, and the loss is 0.17055196\n",
      "the times of training is 200, and the loss is 0.16432789\n",
      "the times of training is 300, and the loss is 0.16425633\n",
      "epoch 14:\n",
      "the times of training is 0, and the loss is 0.16889055\n",
      "the times of training is 100, and the loss is 0.16799843\n",
      "the times of training is 200, and the loss is 0.1618116\n",
      "the times of training is 300, and the loss is 0.16190015\n",
      "epoch 15:\n",
      "the times of training is 0, and the loss is 0.16685764\n",
      "the times of training is 100, and the loss is 0.16610062\n",
      "the times of training is 200, and the loss is 0.15992561\n",
      "the times of training is 300, and the loss is 0.16012818\n",
      "epoch 16:\n",
      "the times of training is 0, and the loss is 0.1653429\n",
      "the times of training is 100, and the loss is 0.16468292\n",
      "the times of training is 200, and the loss is 0.15849823\n",
      "the times of training is 300, and the loss is 0.1587792\n",
      "epoch 17:\n",
      "the times of training is 0, and the loss is 0.1642019\n",
      "the times of training is 100, and the loss is 0.16361338\n",
      "the times of training is 200, and the loss is 0.15740696\n",
      "the times of training is 300, and the loss is 0.1577424\n",
      "epoch 18:\n",
      "the times of training is 0, and the loss is 0.16333607\n",
      "the times of training is 100, and the loss is 0.16280009\n",
      "the times of training is 200, and the loss is 0.1565642\n",
      "the times of training is 300, and the loss is 0.15693715\n",
      "epoch 19:\n",
      "the times of training is 0, and the loss is 0.16267374\n",
      "the times of training is 100, and the loss is 0.1621763\n",
      "the times of training is 200, and the loss is 0.15590702\n",
      "the times of training is 300, and the loss is 0.15630631\n",
      "epoch 20:\n",
      "the times of training is 0, and the loss is 0.16216443\n",
      "the times of training is 100, and the loss is 0.1616963\n",
      "the times of training is 200, and the loss is 0.15539244\n",
      "the times of training is 300, and the loss is 0.15580966\n",
      "epoch 21:\n",
      "the times of training is 0, and the loss is 0.16177136\n",
      "the times of training is 100, and the loss is 0.16132472\n",
      "the times of training is 200, and the loss is 0.15498437\n",
      "the times of training is 300, and the loss is 0.15541227\n",
      "epoch 22:\n",
      "the times of training is 0, and the loss is 0.16146353\n",
      "the times of training is 100, and the loss is 0.16103321\n",
      "the times of training is 200, and the loss is 0.1546577\n",
      "the times of training is 300, and the loss is 0.15509385\n",
      "epoch 23:\n",
      "the times of training is 0, and the loss is 0.161225\n",
      "the times of training is 100, and the loss is 0.16080782\n",
      "the times of training is 200, and the loss is 0.15439864\n",
      "the times of training is 300, and the loss is 0.15484002\n",
      "epoch 24:\n",
      "the times of training is 0, and the loss is 0.16104113\n",
      "the times of training is 100, and the loss is 0.16063397\n",
      "the times of training is 200, and the loss is 0.1541928\n",
      "the times of training is 300, and the loss is 0.154637\n",
      "epoch 25:\n",
      "the times of training is 0, and the loss is 0.16089924\n",
      "the times of training is 100, and the loss is 0.16049992\n",
      "the times of training is 200, and the loss is 0.15402828\n",
      "the times of training is 300, and the loss is 0.15447365\n",
      "epoch 26:\n",
      "the times of training is 0, and the loss is 0.16078968\n",
      "the times of training is 100, and the loss is 0.16039658\n",
      "the times of training is 200, and the loss is 0.15389612\n",
      "the times of training is 300, and the loss is 0.15434161\n",
      "epoch 27:\n",
      "the times of training is 0, and the loss is 0.16070537\n",
      "the times of training is 100, and the loss is 0.16031733\n",
      "the times of training is 200, and the loss is 0.15378979\n",
      "the times of training is 300, and the loss is 0.15423474\n",
      "epoch 28:\n",
      "the times of training is 0, and the loss is 0.16064097\n",
      "the times of training is 100, and the loss is 0.16025715\n",
      "the times of training is 200, and the loss is 0.15370426\n",
      "the times of training is 300, and the loss is 0.15414822\n",
      "epoch 29:\n",
      "the times of training is 0, and the loss is 0.16059235\n",
      "the times of training is 100, and the loss is 0.16021182\n",
      "the times of training is 200, and the loss is 0.15363538\n",
      "the times of training is 300, and the loss is 0.15407813\n"
     ]
    }
   ],
   "source": [
    "from Tensorflow.TFModel import *\n",
    "model =TFModel(sparse_features, dense_features, sparse_label_dict, [2048, 100, 50] , 3)\n",
    "model.fit(train, y_train, 100, 1000)"
   ]
  },
  {
   "cell_type": "code",
   "execution_count": 10,
   "metadata": {},
   "outputs": [
    {
     "data": {
      "text/plain": [
       "0.5852519896788904"
      ]
     },
     "execution_count": 10,
     "metadata": {},
     "output_type": "execute_result"
    }
   ],
   "source": [
    "model.evaluate(test, y_test, roc_auc_score)"
   ]
  },
  {
   "cell_type": "code",
   "execution_count": 13,
   "metadata": {},
   "outputs": [
    {
     "name": "stdout",
     "output_type": "stream",
     "text": [
      "(?, 1)\n",
      "---starting the training---\n",
      "Epoch 1/30\n",
      "398792/398792 [==============================] - 15s 36us/step - loss: 0.1585 - acc: 0.9635\n",
      "Epoch 2/30\n",
      "398792/398792 [==============================] - 12s 30us/step - loss: 0.1529 - acc: 0.9637\n",
      "Epoch 3/30\n",
      "398792/398792 [==============================] - 12s 31us/step - loss: 0.1517 - acc: 0.9637\n",
      "Epoch 4/30\n",
      "398792/398792 [==============================] - 12s 31us/step - loss: 0.1508 - acc: 0.9637\n",
      "Epoch 5/30\n",
      "398792/398792 [==============================] - 12s 30us/step - loss: 0.1502 - acc: 0.9637\n",
      "Epoch 6/30\n",
      "398792/398792 [==============================] - 12s 31us/step - loss: 0.1494 - acc: 0.9637\n",
      "Epoch 7/30\n",
      "398792/398792 [==============================] - 12s 31us/step - loss: 0.1483 - acc: 0.9637\n",
      "Epoch 8/30\n",
      "398792/398792 [==============================] - 12s 30us/step - loss: 0.1468 - acc: 0.9637\n",
      "Epoch 9/30\n",
      "398792/398792 [==============================] - 12s 29us/step - loss: 0.1446 - acc: 0.9636\n",
      "Epoch 10/30\n",
      "398792/398792 [==============================] - 12s 29us/step - loss: 0.1414 - acc: 0.9637\n",
      "Epoch 11/30\n",
      "398792/398792 [==============================] - 11s 29us/step - loss: 0.1374 - acc: 0.9638\n",
      "Epoch 12/30\n",
      "398792/398792 [==============================] - 11s 28us/step - loss: 0.1318 - acc: 0.9639\n",
      "Epoch 13/30\n",
      "398792/398792 [==============================] - 11s 28us/step - loss: 0.1248 - acc: 0.9643\n",
      "Epoch 14/30\n",
      "398792/398792 [==============================] - 12s 30us/step - loss: 0.1179 - acc: 0.9647\n",
      "Epoch 15/30\n",
      "398792/398792 [==============================] - 12s 31us/step - loss: 0.1103 - acc: 0.9658\n",
      "Epoch 16/30\n",
      "398792/398792 [==============================] - 12s 31us/step - loss: 0.1027 - acc: 0.9670\n",
      "Epoch 17/30\n",
      "398792/398792 [==============================] - 12s 31us/step - loss: 0.0961 - acc: 0.9684\n",
      "Epoch 18/30\n",
      "398792/398792 [==============================] - 12s 31us/step - loss: 0.0891 - acc: 0.9701\n",
      "Epoch 19/30\n",
      "398792/398792 [==============================] - 12s 31us/step - loss: 0.0833 - acc: 0.9717\n",
      "Epoch 20/30\n",
      "398792/398792 [==============================] - 12s 31us/step - loss: 0.0783 - acc: 0.9731\n",
      "Epoch 21/30\n",
      "398792/398792 [==============================] - 12s 31us/step - loss: 0.0738 - acc: 0.9746\n",
      "Epoch 22/30\n",
      "398792/398792 [==============================] - 12s 31us/step - loss: 0.0699 - acc: 0.9757\n",
      "Epoch 23/30\n",
      "398792/398792 [==============================] - 12s 31us/step - loss: 0.0663 - acc: 0.9770\n",
      "Epoch 24/30\n",
      "398792/398792 [==============================] - 12s 30us/step - loss: 0.0630 - acc: 0.9779\n",
      "Epoch 25/30\n",
      "398792/398792 [==============================] - 12s 31us/step - loss: 0.0607 - acc: 0.9786\n",
      "Epoch 26/30\n",
      "398792/398792 [==============================] - 12s 31us/step - loss: 0.0577 - acc: 0.9798\n",
      "Epoch 27/30\n",
      "398792/398792 [==============================] - 12s 31us/step - loss: 0.0557 - acc: 0.9804\n",
      "Epoch 28/30\n",
      "398792/398792 [==============================] - 12s 30us/step - loss: 0.0537 - acc: 0.9813\n",
      "Epoch 29/30\n",
      "398792/398792 [==============================] - 12s 31us/step - loss: 0.0515 - acc: 0.9820\n",
      "Epoch 30/30\n",
      "398792/398792 [==============================] - 12s 31us/step - loss: 0.0505 - acc: 0.9821\n"
     ]
    },
    {
     "data": {
      "text/plain": [
       "0.5596161857172546"
      ]
     },
     "execution_count": 13,
     "metadata": {},
     "output_type": "execute_result"
    }
   ],
   "source": [
    "from Keras.models.DeepFM import *\n",
    "model = DeepFM(sparse_features, dense_features, sparse_label_dict, [2048, 100, 50] , 3)\n",
    "model.fit(train, y_train, 100, 1000)\n",
    "model.evaluate(test, y_test, roc_auc_score)"
   ]
  },
  {
   "cell_type": "code",
   "execution_count": null,
   "metadata": {},
   "outputs": [],
   "source": [
    "len(y_train)"
   ]
  }
 ],
 "metadata": {
  "kernelspec": {
   "display_name": "Python 3",
   "language": "python",
   "name": "python3"
  },
  "language_info": {
   "codemirror_mode": {
    "name": "ipython",
    "version": 3
   },
   "file_extension": ".py",
   "mimetype": "text/x-python",
   "name": "python",
   "nbconvert_exporter": "python",
   "pygments_lexer": "ipython3",
   "version": "3.6.8"
  }
 },
 "nbformat": 4,
 "nbformat_minor": 2
}
